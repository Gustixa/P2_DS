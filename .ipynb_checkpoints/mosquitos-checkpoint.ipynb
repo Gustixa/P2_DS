{
 "cells": [
  {
   "cell_type": "markdown",
   "metadata": {},
   "source": [
    "# Análisis Exploratorio"
   ]
  },
  {
   "cell_type": "code",
   "execution_count": 1,
   "metadata": {},
   "outputs": [
    {
     "name": "stdout",
     "output_type": "stream",
     "text": [
      "Columnas del conjunto de datos:\n",
      "Index(['img_fName', 'img_w', 'img_h', 'bbx_xtl', 'bbx_ytl', 'bbx_xbr',\n",
      "       'bbx_ybr', 'class_label'],\n",
      "      dtype='object')\n"
     ]
    }
   ],
   "source": [
    "import pandas as pd\n",
    "\n",
    "file_path = 'phase2_train_v0.csv'\n",
    "data = pd.read_csv(file_path)\n",
    "print(\"Columnas del conjunto de datos:\")\n",
    "print(data.columns)\n"
   ]
  },
  {
   "cell_type": "markdown",
   "metadata": {},
   "source": [
    "# Descripción de las variables\n",
    "- img_fName: Nombre del archivo de imagen(object).\n",
    "- img_w: Ancho de la imagen en píxeles(int 64).\n",
    "- img_h: Altura de la imagen en píxeles(int 64).\n",
    "- bbx_xtl: Coordenada X del vértice superior izquierdo del cuadro delimitador(int 64).\n",
    "- bbx_ytl: Coordenada Y del vértice superior izquierdo del cuadro delimitador(int 64).\n",
    "- bbx_xbr: Coordenada X del vértice inferior derecho del cuadro delimitador(int 64).\n",
    "- bbx_ybr: Coordenada Y del vértice inferior derecho del cuadro delimitador(int 64).\n",
    "- class_label: Etiqueta de clase que representa la especie o género del mosquito en la imagen(object).\n",
    "\n",
    "\n",
    "Hay un total de 10357 imágenes\n"
   ]
  },
  {
   "cell_type": "markdown",
   "metadata": {},
   "source": [
    "## Haga un resumen de las variables numéricas y tablas de frecuencia para las variables categóricas, escriba lo que vaya encontrando, si aplica"
   ]
  },
  {
   "cell_type": "code",
   "execution_count": 3,
   "metadata": {},
   "outputs": [
    {
     "name": "stdout",
     "output_type": "stream",
     "text": [
      "Resumen de las variables numéricas:\n",
      "              img_w         img_h       bbx_xtl       bbx_ytl       bbx_xbr  \\\n",
      "count  10357.000000  10357.000000  10357.000000  10357.000000  10357.000000   \n",
      "mean    2039.716327   2470.491165    666.901323    887.978372   1330.077532   \n",
      "std     1174.279458   1357.607784    512.356341    645.361851    793.412874   \n",
      "min      139.000000    106.000000      0.000000      0.000000    128.000000   \n",
      "25%     1024.000000   1109.000000    276.000000    394.000000    640.000000   \n",
      "50%     1844.000000   2208.000000    502.000000    677.000000   1154.000000   \n",
      "75%     3024.000000   4000.000000    987.000000   1349.000000   1880.000000   \n",
      "max     9280.000000  12000.000000   3977.000000   5459.000000   7327.000000   \n",
      "\n",
      "            bbx_ybr  \n",
      "count  10357.000000  \n",
      "mean    1565.666699  \n",
      "std      903.075535  \n",
      "min       85.000000  \n",
      "25%      761.000000  \n",
      "50%     1337.000000  \n",
      "75%     2304.000000  \n",
      "max     7601.000000  \n",
      "\n",
      "Tablas de frecuencia para la variable 'class_label':\n",
      "class_label\n",
      "albopictus            4612\n",
      "culex                 4563\n",
      "culiseta               622\n",
      "japonicus/koreicus     429\n",
      "anopheles               84\n",
      "aegypti                 47\n",
      "Name: count, dtype: int64\n"
     ]
    }
   ],
   "source": [
    "# Resumen de las variables numéricas\n",
    "numerical_summary = data.describe()\n",
    "print(\"Resumen de las variables numéricas:\")\n",
    "print(numerical_summary)\n",
    "\n",
    "# Tablas de frecuencia para la variable categórica 'class_label'\n",
    "categorical_summary = data['class_label'].value_counts()\n",
    "print(\"\\nTablas de frecuencia para la variable 'class_label':\")\n",
    "print(categorical_summary)\n"
   ]
  }
 ],
 "metadata": {
  "kernelspec": {
   "display_name": "Python 3 (ipykernel)",
   "language": "python",
   "name": "python3"
  },
  "language_info": {
   "codemirror_mode": {
    "name": "ipython",
    "version": 3
   },
   "file_extension": ".py",
   "mimetype": "text/x-python",
   "name": "python",
   "nbconvert_exporter": "python",
   "pygments_lexer": "ipython3",
   "version": "3.12.6"
  }
 },
 "nbformat": 4,
 "nbformat_minor": 4
}
