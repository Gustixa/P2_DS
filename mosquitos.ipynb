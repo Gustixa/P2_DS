{
 "cells": [
  {
   "cell_type": "markdown",
   "metadata": {},
   "source": [
    "# Análisis Exploratorio"
   ]
  },
  {
   "cell_type": "code",
   "execution_count": 1,
   "metadata": {},
   "outputs": [
    {
     "name": "stdout",
     "output_type": "stream",
     "text": [
      "Columnas del conjunto de datos:\n",
      "Index(['img_fName', 'img_w', 'img_h', 'bbx_xtl', 'bbx_ytl', 'bbx_xbr',\n",
      "       'bbx_ybr', 'class_label'],\n",
      "      dtype='object')\n"
     ]
    }
   ],
   "source": [
    "import pandas as pd\n",
    "\n",
    "file_path = 'phase2_train_v0.csv'\n",
    "data = pd.read_csv(file_path)\n",
    "print(\"Columnas del conjunto de datos:\")\n",
    "print(data.columns)\n"
   ]
  },
  {
   "cell_type": "markdown",
   "metadata": {},
   "source": [
    "# Descripción de las variables\n",
    "- img_fName: Nombre del archivo de imagen(object).\n",
    "- img_w: Ancho de la imagen en píxeles(int 64).\n",
    "- img_h: Altura de la imagen en píxeles(int 64).\n",
    "- bbx_xtl: Coordenada X del vértice superior izquierdo del cuadro delimitador(int 64).\n",
    "- bbx_ytl: Coordenada Y del vértice superior izquierdo del cuadro delimitador(int 64).\n",
    "- bbx_xbr: Coordenada X del vértice inferior derecho del cuadro delimitador(int 64).\n",
    "- bbx_ybr: Coordenada Y del vértice inferior derecho del cuadro delimitador(int 64).\n",
    "- class_label: Etiqueta de clase que representa la especie o género del mosquito en la imagen(object).\n",
    "\n",
    "\n",
    "Hay un total de 10357 imágenes\n"
   ]
  }
 ],
 "metadata": {
  "kernelspec": {
   "display_name": "Python 3",
   "language": "python",
   "name": "python3"
  },
  "language_info": {
   "codemirror_mode": {
    "name": "ipython",
    "version": 3
   },
   "file_extension": ".py",
   "mimetype": "text/x-python",
   "name": "python",
   "nbconvert_exporter": "python",
   "pygments_lexer": "ipython3",
   "version": "3.12.1"
  }
 },
 "nbformat": 4,
 "nbformat_minor": 2
}
