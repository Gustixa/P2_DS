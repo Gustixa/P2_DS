{
 "cells": [
  {
   "cell_type": "markdown",
   "metadata": {},
   "source": [
    "# Análisis Exploratorio"
   ]
  },
  {
   "cell_type": "code",
   "execution_count": 1,
   "metadata": {},
   "outputs": [],
   "source": [
    "import pandas as pd"
   ]
  },
  {
   "cell_type": "code",
   "execution_count": 2,
   "metadata": {},
   "outputs": [
    {
     "name": "stdout",
     "output_type": "stream",
     "text": [
      "Columnas del conjunto de datos:\n",
      "Index(['img_fName', 'img_w', 'img_h', 'bbx_xtl', 'bbx_ytl', 'bbx_xbr',\n",
      "       'bbx_ybr', 'class_label'],\n",
      "      dtype='object')\n"
     ]
    }
   ],
   "source": [
    "file_path = 'phase2_train_v0.csv'\n",
    "data = pd.read_csv(file_path)\n",
    "print(\"Columnas del conjunto de datos:\")\n",
    "print(data.columns)\n"
   ]
  },
  {
   "cell_type": "markdown",
   "metadata": {},
   "source": [
    "# Descripción de las variables\n",
    "- img_fName: Nombre del archivo de imagen(object).\n",
    "- img_w: Ancho de la imagen en píxeles(int 64).\n",
    "- img_h: Altura de la imagen en píxeles(int 64).\n",
    "- bbx_xtl: Coordenada X del vértice superior izquierdo del cuadro delimitador(int 64).\n",
    "- bbx_ytl: Coordenada Y del vértice superior izquierdo del cuadro delimitador(int 64).\n",
    "- bbx_xbr: Coordenada X del vértice inferior derecho del cuadro delimitador(int 64).\n",
    "- bbx_ybr: Coordenada Y del vértice inferior derecho del cuadro delimitador(int 64).\n",
    "- class_label: Etiqueta de clase que representa la especie o género del mosquito en la imagen(object).\n",
    "\n",
    "\n",
    "Hay un total de 10357 imágenes\n"
   ]
  },
  {
   "cell_type": "markdown",
   "metadata": {},
   "source": [
    "# Limpieza de datos\n",
    "\n",
    "Verificar que las coordenadas del cuadro delimitador sean coherentes y estén dentro de los límites de la imagen."
   ]
  },
  {
   "cell_type": "code",
   "execution_count": 8,
   "metadata": {},
   "outputs": [
    {
     "name": "stdout",
     "output_type": "stream",
     "text": [
      "Número de filas con coordenadas fuera de los límites: 0\n"
     ]
    }
   ],
   "source": [
    "# Verificar que las coordenadas no exceden las dimensiones de la imagen\n",
    "out_of_bounds = data[\n",
    "    (data['bbx_xtl'] < 0) | (data['bbx_ytl'] < 0) |\n",
    "    (data['bbx_xbr'] > data['img_w']) | (data['bbx_ybr'] > data['img_h'])\n",
    "]\n",
    "\n",
    "print(\"Número de filas con coordenadas fuera de los límites:\", len(out_of_bounds))\n"
   ]
  },
  {
   "cell_type": "code",
   "execution_count": 7,
   "metadata": {},
   "outputs": [],
   "source": [
    "# Ajustar coordenadas fuera de los límites\n",
    "data['bbx_xtl'] = data['bbx_xtl'].clip(lower=0, upper=data['img_w'])\n",
    "data['bbx_xbr'] = data['bbx_xbr'].clip(lower=0, upper=data['img_w'])\n",
    "data['bbx_ytl'] = data['bbx_ytl'].clip(lower=0, upper=data['img_h'])\n",
    "data['bbx_ybr'] = data['bbx_ybr'].clip(lower=0, upper=data['img_h'])"
   ]
  },
  {
   "cell_type": "markdown",
   "metadata": {},
   "source": [
    "Estandarización de Etiquetas de Clase\n",
    "\n",
    "Asegurarse de que las etiquetas de clase estén correctamente escritas y unificadas."
   ]
  },
  {
   "cell_type": "code",
   "execution_count": 9,
   "metadata": {},
   "outputs": [
    {
     "name": "stdout",
     "output_type": "stream",
     "text": [
      "Etiquetas de clase únicas antes de la estandarización: ['albopictus' 'culex' 'anopheles' 'culiseta' 'japonicus/koreicus'\n",
      " 'aegypti']\n"
     ]
    }
   ],
   "source": [
    "# Ver los valores únicos en 'class_label'\n",
    "print(\"Etiquetas de clase únicas antes de la estandarización:\", data['class_label'].unique())"
   ]
  },
  {
   "cell_type": "markdown",
   "metadata": {},
   "source": [
    "Supongamos que encontramos variaciones en las etiquetas (por ejemplo, mayúsculas, espacios adicionales, etc.)."
   ]
  },
  {
   "cell_type": "code",
   "execution_count": 14,
   "metadata": {},
   "outputs": [
    {
     "name": "stdout",
     "output_type": "stream",
     "text": [
      "Etiquetas de clase únicas antes de la estandarización: ['albopictus' 'culex' 'anopheles' 'culiseta' 'japonicus/koreicus'\n",
      " 'aegypti']\n",
      "Etiquetas inesperadas o mal escritas: []\n",
      "Etiquetas desconocidas después del mapeo: []\n",
      "Etiquetas de clase únicas después de la estandarización y limpieza: ['albopictus' 'culex' 'anopheles' 'culiseta' 'japonicus/koreicus'\n",
      " 'aegypti']\n"
     ]
    }
   ],
   "source": [
    "# Paso 1: Convertir a minúsculas y eliminar espacios en blanco\n",
    "data['class_label'] = data['class_label'].str.lower().str.strip()\n",
    "\n",
    "# Ver etiquetas únicas\n",
    "unique_labels = data['class_label'].unique()\n",
    "print(\"Etiquetas de clase únicas antes de la estandarización:\", unique_labels)\n",
    "\n",
    "# Etiquetas esperadas\n",
    "expected_labels = [\n",
    "    'aegypti',\n",
    "    'albopictus',\n",
    "    'anopheles',\n",
    "    'culex',\n",
    "    'culiseta',\n",
    "    'japonicus/koreicus',\n",
    "    'aedes aegypti',\n",
    "    'aedes albopictus',\n",
    "    'aedes japonicus/aedes koreicus'\n",
    "]\n",
    "\n",
    "# Paso 2: Identificar etiquetas inesperadas\n",
    "unexpected_labels = [label for label in unique_labels if label not in expected_labels]\n",
    "print(\"Etiquetas inesperadas o mal escritas:\", unexpected_labels)\n",
    "\n",
    "# Paso 3: Actualizar el diccionario de mapeo con etiquetas mal escritas\n",
    "class_mapping = {\n",
    "    'aedes aegypti': 'aegypti',\n",
    "    'aedes albopictus': 'albopictus',\n",
    "    'anopheles': 'anopheles',\n",
    "    'culex': 'culex',\n",
    "    'culiseta': 'culiseta',\n",
    "    'aedes japonicus/aedes koreicus': 'japonicus/koreicus',\n",
    "    # Correcciones de etiquetas mal escritas\n",
    "    'aedes egypti': 'aegypti',\n",
    "    'aedesaegypti': 'aegypti',\n",
    "    'anopeles': 'anopheles',\n",
    "    'culexx': 'culex',\n",
    "    # Agrega más correcciones según sea necesario\n",
    "}\n",
    "\n",
    "# Aplicar el mapeo actualizado\n",
    "data['class_label'] = data['class_label'].replace(class_mapping)\n",
    "\n",
    "# Paso 4: Manejar etiquetas desconocidas\n",
    "# Recalcular las etiquetas únicas después del mapeo\n",
    "unique_labels_after = data['class_label'].unique()\n",
    "unexpected_labels_after = [label for label in unique_labels_after if label not in expected_labels]\n",
    "\n",
    "# Opcional: Imprimir etiquetas aún desconocidas\n",
    "print(\"Etiquetas desconocidas después del mapeo:\", unexpected_labels_after)\n",
    "\n",
    "# Si decides eliminar filas con etiquetas desconocidas\n",
    "data = data[~data['class_label'].isin(unexpected_labels_after)].reset_index(drop=True)\n",
    "\n",
    "# Paso 5: Verificar el resultado final\n",
    "print(\"Etiquetas de clase únicas después de la estandarización y limpieza:\", data['class_label'].unique())\n"
   ]
  },
  {
   "cell_type": "markdown",
   "metadata": {},
   "source": [
    "Identificación y eliminación de filas duplicadas"
   ]
  },
  {
   "cell_type": "code",
   "execution_count": null,
   "metadata": {},
   "outputs": [],
   "source": [
    "# Verificar número de filas antes de eliminar duplicados\n",
    "print(\"Número de filas antes de eliminar duplicados:\", len(data))\n",
    "\n",
    "# Eliminar duplicados\n",
    "data = data.drop_duplicates().reset_index(drop=True)\n",
    "\n",
    "# Verificar número de filas después de eliminar duplicados\n",
    "print(\"Número de filas después de eliminar duplicados:\", len(data))\n"
   ]
  },
  {
   "cell_type": "markdown",
   "metadata": {},
   "source": [
    "Normalización "
   ]
  },
  {
   "cell_type": "code",
   "execution_count": 13,
   "metadata": {},
   "outputs": [
    {
     "name": "stdout",
     "output_type": "stream",
     "text": [
      "       bbx_xtl_norm  bbx_xbr_norm  bbx_ytl_norm  bbx_ybr_norm\n",
      "count  10357.000000  10357.000000  10357.000000  10357.000000\n",
      "mean       0.317015      0.662449      0.347867      0.643575\n",
      "std        0.127660      0.133208      0.134524      0.128321\n",
      "min        0.000000      0.187500      0.000000      0.018382\n",
      "25%        0.235119      0.569114      0.260417      0.556641\n",
      "50%        0.328000      0.642578      0.361826      0.632752\n",
      "75%        0.404948      0.745655      0.440293      0.722512\n",
      "max        1.000000      1.000000      0.818000      1.000000\n"
     ]
    }
   ],
   "source": [
    "# Normalizar coordenadas dividiendo por las dimensiones de la imagen\n",
    "data['bbx_xtl_norm'] = data['bbx_xtl'] / data['img_w']\n",
    "data['bbx_xbr_norm'] = data['bbx_xbr'] / data['img_w']\n",
    "data['bbx_ytl_norm'] = data['bbx_ytl'] / data['img_h']\n",
    "data['bbx_ybr_norm'] = data['bbx_ybr'] / data['img_h']\n",
    "\n",
    "# Verificar que los valores estén entre 0 y 1\n",
    "print(data[['bbx_xtl_norm', 'bbx_xbr_norm', 'bbx_ytl_norm', 'bbx_ybr_norm']].describe())\n"
   ]
  },
  {
   "cell_type": "markdown",
   "metadata": {},
   "source": [
    "## Haga un resumen de las variables numéricas y tablas de frecuencia para las variables categóricas, escriba lo que vaya encontrando, si aplica"
   ]
  },
  {
   "cell_type": "code",
   "execution_count": 3,
   "metadata": {},
   "outputs": [
    {
     "name": "stdout",
     "output_type": "stream",
     "text": [
      "Resumen de las variables numéricas:\n",
      "              img_w         img_h       bbx_xtl       bbx_ytl       bbx_xbr  \\\n",
      "count  10357.000000  10357.000000  10357.000000  10357.000000  10357.000000   \n",
      "mean    2039.716327   2470.491165    666.901323    887.978372   1330.077532   \n",
      "std     1174.279458   1357.607784    512.356341    645.361851    793.412874   \n",
      "min      139.000000    106.000000      0.000000      0.000000    128.000000   \n",
      "25%     1024.000000   1109.000000    276.000000    394.000000    640.000000   \n",
      "50%     1844.000000   2208.000000    502.000000    677.000000   1154.000000   \n",
      "75%     3024.000000   4000.000000    987.000000   1349.000000   1880.000000   \n",
      "max     9280.000000  12000.000000   3977.000000   5459.000000   7327.000000   \n",
      "\n",
      "            bbx_ybr  \n",
      "count  10357.000000  \n",
      "mean    1565.666699  \n",
      "std      903.075535  \n",
      "min       85.000000  \n",
      "25%      761.000000  \n",
      "50%     1337.000000  \n",
      "75%     2304.000000  \n",
      "max     7601.000000  \n",
      "\n",
      "Tablas de frecuencia para la variable 'class_label':\n",
      "class_label\n",
      "albopictus            4612\n",
      "culex                 4563\n",
      "culiseta               622\n",
      "japonicus/koreicus     429\n",
      "anopheles               84\n",
      "aegypti                 47\n",
      "Name: count, dtype: int64\n"
     ]
    }
   ],
   "source": [
    "# Resumen de las variables numéricas\n",
    "numerical_summary = data.describe()\n",
    "print(\"Resumen de las variables numéricas:\")\n",
    "print(numerical_summary)\n",
    "\n",
    "# Tablas de frecuencia para la variable categórica 'class_label'\n",
    "categorical_summary = data['class_label'].value_counts()\n",
    "print(\"\\nTablas de frecuencia para la variable 'class_label':\")\n",
    "print(categorical_summary)\n"
   ]
  }
 ],
 "metadata": {
  "kernelspec": {
   "display_name": "Python 3 (ipykernel)",
   "language": "python",
   "name": "python3"
  },
  "language_info": {
   "codemirror_mode": {
    "name": "ipython",
    "version": 3
   },
   "file_extension": ".py",
   "mimetype": "text/x-python",
   "name": "python",
   "nbconvert_exporter": "python",
   "pygments_lexer": "ipython3",
   "version": "3.9.2rc1"
  }
 },
 "nbformat": 4,
 "nbformat_minor": 4
}
